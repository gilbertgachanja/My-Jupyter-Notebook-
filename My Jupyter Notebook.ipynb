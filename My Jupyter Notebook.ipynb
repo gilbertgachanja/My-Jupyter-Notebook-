{
 "cells": [
  {
   "cell_type": "markdown",
   "id": "9e3c1f12-f734-4f9f-93aa-e461e84c7e4f",
   "metadata": {},
   "source": [
    "My Jupyter Notebook on IBM Watson Studio"
   ]
  },
  {
   "cell_type": "markdown",
   "id": "8546d0ef-2e57-46ca-8d06-da4431c418ec",
   "metadata": {},
   "source": [
    "Gilbert Gichohi Gachanja\n",
    "Banker"
   ]
  },
  {
   "cell_type": "markdown",
   "id": "ff6c2d04-072c-4709-9d6d-95185e1812c0",
   "metadata": {},
   "source": [
    "Am interested in data science because it will upskill myself and enable me to be more effectice in my work"
   ]
  },
  {
   "cell_type": "markdown",
   "id": "e8bc3fa5-8364-4591-8bcc-56af6e6bcf5a",
   "metadata": {},
   "source": [
    "add the figures provided and give the answer "
   ]
  },
  {
   "cell_type": "code",
   "execution_count": null,
   "id": "f096faf8-f6db-4cfe-8877-881ec406d834",
   "metadata": {},
   "outputs": [],
   "source": [
    "2+2"
   ]
  },
  {
   "cell_type": "markdown",
   "id": "2b4b8299-1f63-485f-b883-b937dfce7928",
   "metadata": {},
   "source": [
    "<hr> 1.My name 2.my age 3.my country https://www.standardmedia.co.ke/"
   ]
  }
 ],
 "metadata": {
  "kernelspec": {
   "display_name": "Python",
   "language": "python",
   "name": "conda-env-python-py"
  },
  "language_info": {
   "codemirror_mode": {
    "name": "ipython",
    "version": 3
   },
   "file_extension": ".py",
   "mimetype": "text/x-python",
   "name": "python",
   "nbconvert_exporter": "python",
   "pygments_lexer": "ipython3",
   "version": "3.7.12"
  }
 },
 "nbformat": 4,
 "nbformat_minor": 5
}
